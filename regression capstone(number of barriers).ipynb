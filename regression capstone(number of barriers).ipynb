{
 "cells": [
  {
   "cell_type": "code",
   "execution_count": 6,
   "id": "20a60864-0dfd-447f-bfbf-77a0ceda042e",
   "metadata": {},
   "outputs": [],
   "source": [
    "import numpy as np\n",
    "import pandas as pd\n",
    "import matplotlib.pyplot as plt\n",
    "import seaborn as sns\n",
    "\n",
    "\n",
    "import warnings\n",
    "warnings.simplefilter(\"ignore\")"
   ]
  },
  {
   "cell_type": "code",
   "execution_count": 7,
   "id": "24b6559c-f83e-4169-8d4e-859bcf71adc0",
   "metadata": {},
   "outputs": [],
   "source": [
    "from sklearn.model_selection import train_test_split\n",
    "from sklearn.linear_model import Ridge\n",
    "from sklearn.metrics import r2_score\n",
    "from sklearn.model_selection import GridSearchCV\n",
    "from sklearn.model_selection import cross_val_score"
   ]
  },
  {
   "cell_type": "code",
   "execution_count": 8,
   "id": "f42494ef-1081-44d4-922e-f15e66b1ba8f",
   "metadata": {},
   "outputs": [
    {
     "data": {
      "text/html": [
       "<div>\n",
       "<style scoped>\n",
       "    .dataframe tbody tr th:only-of-type {\n",
       "        vertical-align: middle;\n",
       "    }\n",
       "\n",
       "    .dataframe tbody tr th {\n",
       "        vertical-align: top;\n",
       "    }\n",
       "\n",
       "    .dataframe thead th {\n",
       "        text-align: right;\n",
       "    }\n",
       "</style>\n",
       "<table border=\"1\" class=\"dataframe\">\n",
       "  <thead>\n",
       "    <tr style=\"text-align: right;\">\n",
       "      <th></th>\n",
       "      <th>Area</th>\n",
       "      <th>Sensing Range</th>\n",
       "      <th>Transmission Range</th>\n",
       "      <th>Number of Sensor nodes</th>\n",
       "      <th>Number of Barriers</th>\n",
       "    </tr>\n",
       "  </thead>\n",
       "  <tbody>\n",
       "    <tr>\n",
       "      <th>0</th>\n",
       "      <td>5000</td>\n",
       "      <td>15</td>\n",
       "      <td>30</td>\n",
       "      <td>100</td>\n",
       "      <td>30</td>\n",
       "    </tr>\n",
       "    <tr>\n",
       "      <th>1</th>\n",
       "      <td>5000</td>\n",
       "      <td>16</td>\n",
       "      <td>32</td>\n",
       "      <td>112</td>\n",
       "      <td>35</td>\n",
       "    </tr>\n",
       "    <tr>\n",
       "      <th>2</th>\n",
       "      <td>5000</td>\n",
       "      <td>17</td>\n",
       "      <td>34</td>\n",
       "      <td>124</td>\n",
       "      <td>42</td>\n",
       "    </tr>\n",
       "    <tr>\n",
       "      <th>3</th>\n",
       "      <td>5000</td>\n",
       "      <td>18</td>\n",
       "      <td>36</td>\n",
       "      <td>136</td>\n",
       "      <td>48</td>\n",
       "    </tr>\n",
       "    <tr>\n",
       "      <th>4</th>\n",
       "      <td>5000</td>\n",
       "      <td>19</td>\n",
       "      <td>38</td>\n",
       "      <td>148</td>\n",
       "      <td>56</td>\n",
       "    </tr>\n",
       "  </tbody>\n",
       "</table>\n",
       "</div>"
      ],
      "text/plain": [
       "   Area  Sensing Range  Transmission Range  Number of Sensor nodes  \\\n",
       "0  5000             15                  30                     100   \n",
       "1  5000             16                  32                     112   \n",
       "2  5000             17                  34                     124   \n",
       "3  5000             18                  36                     136   \n",
       "4  5000             19                  38                     148   \n",
       "\n",
       "   Number of Barriers  \n",
       "0                  30  \n",
       "1                  35  \n",
       "2                  42  \n",
       "3                  48  \n",
       "4                  56  "
      ]
     },
     "execution_count": 8,
     "metadata": {},
     "output_type": "execute_result"
    }
   ],
   "source": [
    "data=pd.read_csv(\"data.csv\")\n",
    "data.head()"
   ]
  },
  {
   "cell_type": "code",
   "execution_count": 9,
   "id": "594276e1-a5f7-44df-bbca-2b6ae3e0f0b0",
   "metadata": {},
   "outputs": [
    {
     "name": "stdout",
     "output_type": "stream",
     "text": [
      "<class 'pandas.core.frame.DataFrame'>\n",
      "RangeIndex: 182 entries, 0 to 181\n",
      "Data columns (total 5 columns):\n",
      " #   Column                  Non-Null Count  Dtype\n",
      "---  ------                  --------------  -----\n",
      " 0   Area                    182 non-null    int64\n",
      " 1   Sensing Range           182 non-null    int64\n",
      " 2   Transmission Range      182 non-null    int64\n",
      " 3   Number of Sensor nodes  182 non-null    int64\n",
      " 4   Number of Barriers      182 non-null    int64\n",
      "dtypes: int64(5)\n",
      "memory usage: 7.2 KB\n"
     ]
    }
   ],
   "source": [
    "data.info()"
   ]
  },
  {
   "cell_type": "code",
   "execution_count": 10,
   "id": "ae1d7b7c-5654-4aff-8964-888ad321d471",
   "metadata": {},
   "outputs": [],
   "source": [
    "def plot_boxplot(data,ft):\n",
    "    data.boxplot(column=[ft])\n",
    "    plt.grid(False)\n",
    "    plt.show()"
   ]
  },
  {
   "cell_type": "code",
   "execution_count": 11,
   "id": "3278a297-4ebf-4b33-8d70-7fd5a30b82bd",
   "metadata": {},
   "outputs": [],
   "source": [
    "def outliers(data,ft):\n",
    "    Q1=data[ft].quantile(0.25)\n",
    "    Q3=data[ft].quantile(0.75)\n",
    "    IQR=Q3-Q1\n",
    "    lower_bound=Q1-1.5*IQR\n",
    "    upper_bound=Q3+1.5*IQR\n",
    "\n",
    "    ls=data.index[ (data[ft] < lower_bound) | (data[ft]> upper_bound) ]\n",
    "\n",
    "    return ls"
   ]
  },
  {
   "cell_type": "code",
   "execution_count": 13,
   "id": "6029bd26-86b8-4bd2-bd34-bea922be03f5",
   "metadata": {},
   "outputs": [
    {
     "data": {
      "text/plain": [
       "[22, 23, 24, 25]"
      ]
     },
     "execution_count": 13,
     "metadata": {},
     "output_type": "execute_result"
    }
   ],
   "source": [
    "index_list=[]\n",
    "for feature in [\"Area\",\"Sensing Range\",\"Transmission Range\",\"Number of Sensor nodes\",\"Number of Barriers\"]:\n",
    "    index_list.extend(outliers(data,feature))\n",
    "index_list"
   ]
  },
  {
   "cell_type": "code",
   "execution_count": 14,
   "id": "1ba95305-2149-4507-a389-740e09e7be7f",
   "metadata": {},
   "outputs": [],
   "source": [
    "def remove(data,ls):\n",
    "    ls=sorted(set(ls))\n",
    "    data=data.drop(ls)\n",
    "    return data"
   ]
  },
  {
   "cell_type": "code",
   "execution_count": 15,
   "id": "993df55b-ac5c-45f0-8a92-30bc93393a65",
   "metadata": {},
   "outputs": [],
   "source": [
    "data_cleaned=remove(data,index_list)"
   ]
  },
  {
   "cell_type": "code",
   "execution_count": 16,
   "id": "9147fa75-8760-4141-9e31-d05d0fd8463a",
   "metadata": {},
   "outputs": [
    {
     "data": {
      "text/html": [
       "<div>\n",
       "<style scoped>\n",
       "    .dataframe tbody tr th:only-of-type {\n",
       "        vertical-align: middle;\n",
       "    }\n",
       "\n",
       "    .dataframe tbody tr th {\n",
       "        vertical-align: top;\n",
       "    }\n",
       "\n",
       "    .dataframe thead th {\n",
       "        text-align: right;\n",
       "    }\n",
       "</style>\n",
       "<table border=\"1\" class=\"dataframe\">\n",
       "  <thead>\n",
       "    <tr style=\"text-align: right;\">\n",
       "      <th></th>\n",
       "      <th>Area</th>\n",
       "      <th>Sensing Range</th>\n",
       "      <th>Transmission Range</th>\n",
       "      <th>Number of Sensor nodes</th>\n",
       "      <th>Number of Barriers</th>\n",
       "    </tr>\n",
       "  </thead>\n",
       "  <tbody>\n",
       "    <tr>\n",
       "      <th>0</th>\n",
       "      <td>5000</td>\n",
       "      <td>15</td>\n",
       "      <td>30</td>\n",
       "      <td>100</td>\n",
       "      <td>30</td>\n",
       "    </tr>\n",
       "    <tr>\n",
       "      <th>1</th>\n",
       "      <td>5000</td>\n",
       "      <td>16</td>\n",
       "      <td>32</td>\n",
       "      <td>112</td>\n",
       "      <td>35</td>\n",
       "    </tr>\n",
       "    <tr>\n",
       "      <th>2</th>\n",
       "      <td>5000</td>\n",
       "      <td>17</td>\n",
       "      <td>34</td>\n",
       "      <td>124</td>\n",
       "      <td>42</td>\n",
       "    </tr>\n",
       "    <tr>\n",
       "      <th>3</th>\n",
       "      <td>5000</td>\n",
       "      <td>18</td>\n",
       "      <td>36</td>\n",
       "      <td>136</td>\n",
       "      <td>48</td>\n",
       "    </tr>\n",
       "    <tr>\n",
       "      <th>4</th>\n",
       "      <td>5000</td>\n",
       "      <td>19</td>\n",
       "      <td>38</td>\n",
       "      <td>148</td>\n",
       "      <td>56</td>\n",
       "    </tr>\n",
       "    <tr>\n",
       "      <th>...</th>\n",
       "      <td>...</td>\n",
       "      <td>...</td>\n",
       "      <td>...</td>\n",
       "      <td>...</td>\n",
       "      <td>...</td>\n",
       "    </tr>\n",
       "    <tr>\n",
       "      <th>177</th>\n",
       "      <td>50000</td>\n",
       "      <td>36</td>\n",
       "      <td>72</td>\n",
       "      <td>352</td>\n",
       "      <td>101</td>\n",
       "    </tr>\n",
       "    <tr>\n",
       "      <th>178</th>\n",
       "      <td>50000</td>\n",
       "      <td>37</td>\n",
       "      <td>74</td>\n",
       "      <td>364</td>\n",
       "      <td>107</td>\n",
       "    </tr>\n",
       "    <tr>\n",
       "      <th>179</th>\n",
       "      <td>50000</td>\n",
       "      <td>38</td>\n",
       "      <td>76</td>\n",
       "      <td>376</td>\n",
       "      <td>114</td>\n",
       "    </tr>\n",
       "    <tr>\n",
       "      <th>180</th>\n",
       "      <td>50000</td>\n",
       "      <td>39</td>\n",
       "      <td>78</td>\n",
       "      <td>388</td>\n",
       "      <td>121</td>\n",
       "    </tr>\n",
       "    <tr>\n",
       "      <th>181</th>\n",
       "      <td>50000</td>\n",
       "      <td>40</td>\n",
       "      <td>80</td>\n",
       "      <td>400</td>\n",
       "      <td>128</td>\n",
       "    </tr>\n",
       "  </tbody>\n",
       "</table>\n",
       "<p>178 rows × 5 columns</p>\n",
       "</div>"
      ],
      "text/plain": [
       "      Area  Sensing Range  Transmission Range  Number of Sensor nodes  \\\n",
       "0     5000             15                  30                     100   \n",
       "1     5000             16                  32                     112   \n",
       "2     5000             17                  34                     124   \n",
       "3     5000             18                  36                     136   \n",
       "4     5000             19                  38                     148   \n",
       "..     ...            ...                 ...                     ...   \n",
       "177  50000             36                  72                     352   \n",
       "178  50000             37                  74                     364   \n",
       "179  50000             38                  76                     376   \n",
       "180  50000             39                  78                     388   \n",
       "181  50000             40                  80                     400   \n",
       "\n",
       "     Number of Barriers  \n",
       "0                    30  \n",
       "1                    35  \n",
       "2                    42  \n",
       "3                    48  \n",
       "4                    56  \n",
       "..                  ...  \n",
       "177                 101  \n",
       "178                 107  \n",
       "179                 114  \n",
       "180                 121  \n",
       "181                 128  \n",
       "\n",
       "[178 rows x 5 columns]"
      ]
     },
     "execution_count": 16,
     "metadata": {},
     "output_type": "execute_result"
    }
   ],
   "source": [
    "data_cleaned"
   ]
  },
  {
   "cell_type": "code",
   "execution_count": 17,
   "id": "3d1d5c2b-82d6-495c-9fed-4206fc20db2d",
   "metadata": {},
   "outputs": [
    {
     "data": {
      "text/plain": [
       "Area                      0\n",
       "Sensing Range             0\n",
       "Transmission Range        0\n",
       "Number of Sensor nodes    0\n",
       "Number of Barriers        0\n",
       "dtype: int64"
      ]
     },
     "execution_count": 17,
     "metadata": {},
     "output_type": "execute_result"
    }
   ],
   "source": [
    "data_cleaned.isnull().sum()"
   ]
  },
  {
   "cell_type": "code",
   "execution_count": 7,
   "id": "5dd1b1e7-f804-4278-84b2-7e98ea0c8ac6",
   "metadata": {},
   "outputs": [],
   "source": [
    "#df.drop(columns=[\"subject#\"],inplace=True)"
   ]
  },
  {
   "cell_type": "code",
   "execution_count": 18,
   "id": "0377d451-49a2-41da-9564-7b78a5bbbbdf",
   "metadata": {},
   "outputs": [],
   "source": [
    "X=df.drop(\"Number of Barriers\",axis=1)\n",
    "y=df[\"Number of Barriers\"]"
   ]
  },
  {
   "cell_type": "code",
   "execution_count": 19,
   "id": "6a3a32d8-0859-4a29-b1c1-b2465c8eaad1",
   "metadata": {},
   "outputs": [
    {
     "name": "stdout",
     "output_type": "stream",
     "text": [
      "Intercept: -11.546999356790266\n",
      "coefficients: [-0.00177162  0.0474344   0.09486881  0.56921284]\n",
      "Train R2: 0.8753323532551173\n",
      "Test R2: 0.9031898662833902\n",
      "cross validation score: 0.7596905128322411\n"
     ]
    }
   ],
   "source": [
    "\n",
    "from sklearn.model_selection import train_test_split\n",
    "X_train,X_test,y_train,y_test=train_test_split(X,y,test_size=0.2,random_state=9)\n",
    "\n",
    "from sklearn.linear_model import LinearRegression\n",
    "model1=LinearRegression()\n",
    "model1.fit(X_train,y_train)\n",
    "\n",
    "from sklearn.model_selection import cross_val_score\n",
    "print(\"Intercept:\",model1.intercept_)\n",
    "print(\"coefficients:\",model1.coef_)\n",
    "\n",
    "train_predictions=model1.predict(X_train)\n",
    "test_predictions=model1.predict(X_test)\n",
    "\n",
    "print(\"Train R2:\",model1.score(X_train,y_train))\n",
    "print(\"Test R2:\",model1.score(X_test,y_test))\n",
    "print(\"cross validation score:\",cross_val_score(model1,X,y,cv=5).mean())"
   ]
  },
  {
   "cell_type": "code",
   "execution_count": 20,
   "id": "52d89758-e5df-4c30-8131-387a1b12daa6",
   "metadata": {},
   "outputs": [
    {
     "data": {
      "text/html": [
       "<table class=\"simpletable\">\n",
       "<caption>OLS Regression Results</caption>\n",
       "<tr>\n",
       "  <th>Dep. Variable:</th>            <td>y</td>        <th>  R-squared:         </th> <td>   0.882</td>\n",
       "</tr>\n",
       "<tr>\n",
       "  <th>Model:</th>                   <td>OLS</td>       <th>  Adj. R-squared:    </th> <td>   0.881</td>\n",
       "</tr>\n",
       "<tr>\n",
       "  <th>Method:</th>             <td>Least Squares</td>  <th>  F-statistic:       </th> <td>   670.0</td>\n",
       "</tr>\n",
       "<tr>\n",
       "  <th>Date:</th>             <td>Tue, 23 Apr 2024</td> <th>  Prob (F-statistic):</th> <td>7.62e-84</td>\n",
       "</tr>\n",
       "<tr>\n",
       "  <th>Time:</th>                 <td>07:43:18</td>     <th>  Log-Likelihood:    </th> <td> -823.37</td>\n",
       "</tr>\n",
       "<tr>\n",
       "  <th>No. Observations:</th>      <td>   182</td>      <th>  AIC:               </th> <td>   1653.</td>\n",
       "</tr>\n",
       "<tr>\n",
       "  <th>Df Residuals:</th>          <td>   179</td>      <th>  BIC:               </th> <td>   1662.</td>\n",
       "</tr>\n",
       "<tr>\n",
       "  <th>Df Model:</th>              <td>     2</td>      <th>                     </th>     <td> </td>   \n",
       "</tr>\n",
       "<tr>\n",
       "  <th>Covariance Type:</th>      <td>nonrobust</td>    <th>                     </th>     <td> </td>   \n",
       "</tr>\n",
       "</table>\n",
       "<table class=\"simpletable\">\n",
       "<tr>\n",
       "      <td></td>         <th>coef</th>     <th>std err</th>      <th>t</th>      <th>P>|t|</th>  <th>[0.025</th>    <th>0.975]</th>  \n",
       "</tr>\n",
       "<tr>\n",
       "  <th>Intercept</th> <td>   -0.0679</td> <td>    0.026</td> <td>   -2.593</td> <td> 0.010</td> <td>   -0.120</td> <td>   -0.016</td>\n",
       "</tr>\n",
       "<tr>\n",
       "  <th>X[0]</th>      <td>   -0.0018</td> <td>    0.000</td> <td>  -16.503</td> <td> 0.000</td> <td>   -0.002</td> <td>   -0.002</td>\n",
       "</tr>\n",
       "<tr>\n",
       "  <th>X[1]</th>      <td>   -0.3885</td> <td>    0.167</td> <td>   -2.321</td> <td> 0.021</td> <td>   -0.719</td> <td>   -0.058</td>\n",
       "</tr>\n",
       "<tr>\n",
       "  <th>X[2]</th>      <td>   -0.7771</td> <td>    0.335</td> <td>   -2.321</td> <td> 0.021</td> <td>   -1.438</td> <td>   -0.116</td>\n",
       "</tr>\n",
       "<tr>\n",
       "  <th>X[3]</th>      <td>    0.7673</td> <td>    0.086</td> <td>    8.954</td> <td> 0.000</td> <td>    0.598</td> <td>    0.936</td>\n",
       "</tr>\n",
       "</table>\n",
       "<table class=\"simpletable\">\n",
       "<tr>\n",
       "  <th>Omnibus:</th>       <td>76.740</td> <th>  Durbin-Watson:     </th> <td>   0.262</td>\n",
       "</tr>\n",
       "<tr>\n",
       "  <th>Prob(Omnibus):</th> <td> 0.000</td> <th>  Jarque-Bera (JB):  </th> <td> 207.887</td>\n",
       "</tr>\n",
       "<tr>\n",
       "  <th>Skew:</th>          <td> 1.837</td> <th>  Prob(JB):          </th> <td>7.21e-46</td>\n",
       "</tr>\n",
       "<tr>\n",
       "  <th>Kurtosis:</th>      <td> 6.731</td> <th>  Cond. No.          </th> <td>4.29e+19</td>\n",
       "</tr>\n",
       "</table><br/><br/>Notes:<br/>[1] Standard Errors assume that the covariance matrix of the errors is correctly specified.<br/>[2] The smallest eigenvalue is 8.14e-29. This might indicate that there are<br/>strong multicollinearity problems or that the design matrix is singular."
      ],
      "text/latex": [
       "\\begin{center}\n",
       "\\begin{tabular}{lclc}\n",
       "\\toprule\n",
       "\\textbf{Dep. Variable:}    &        y         & \\textbf{  R-squared:         } &     0.882   \\\\\n",
       "\\textbf{Model:}            &       OLS        & \\textbf{  Adj. R-squared:    } &     0.881   \\\\\n",
       "\\textbf{Method:}           &  Least Squares   & \\textbf{  F-statistic:       } &     670.0   \\\\\n",
       "\\textbf{Date:}             & Tue, 23 Apr 2024 & \\textbf{  Prob (F-statistic):} &  7.62e-84   \\\\\n",
       "\\textbf{Time:}             &     07:43:18     & \\textbf{  Log-Likelihood:    } &   -823.37   \\\\\n",
       "\\textbf{No. Observations:} &         182      & \\textbf{  AIC:               } &     1653.   \\\\\n",
       "\\textbf{Df Residuals:}     &         179      & \\textbf{  BIC:               } &     1662.   \\\\\n",
       "\\textbf{Df Model:}         &           2      & \\textbf{                     } &             \\\\\n",
       "\\textbf{Covariance Type:}  &    nonrobust     & \\textbf{                     } &             \\\\\n",
       "\\bottomrule\n",
       "\\end{tabular}\n",
       "\\begin{tabular}{lcccccc}\n",
       "                   & \\textbf{coef} & \\textbf{std err} & \\textbf{t} & \\textbf{P$> |$t$|$} & \\textbf{[0.025} & \\textbf{0.975]}  \\\\\n",
       "\\midrule\n",
       "\\textbf{Intercept} &      -0.0679  &        0.026     &    -2.593  &         0.010        &       -0.120    &       -0.016     \\\\\n",
       "\\textbf{X[0]}      &      -0.0018  &        0.000     &   -16.503  &         0.000        &       -0.002    &       -0.002     \\\\\n",
       "\\textbf{X[1]}      &      -0.3885  &        0.167     &    -2.321  &         0.021        &       -0.719    &       -0.058     \\\\\n",
       "\\textbf{X[2]}      &      -0.7771  &        0.335     &    -2.321  &         0.021        &       -1.438    &       -0.116     \\\\\n",
       "\\textbf{X[3]}      &       0.7673  &        0.086     &     8.954  &         0.000        &        0.598    &        0.936     \\\\\n",
       "\\bottomrule\n",
       "\\end{tabular}\n",
       "\\begin{tabular}{lclc}\n",
       "\\textbf{Omnibus:}       & 76.740 & \\textbf{  Durbin-Watson:     } &    0.262  \\\\\n",
       "\\textbf{Prob(Omnibus):} &  0.000 & \\textbf{  Jarque-Bera (JB):  } &  207.887  \\\\\n",
       "\\textbf{Skew:}          &  1.837 & \\textbf{  Prob(JB):          } & 7.21e-46  \\\\\n",
       "\\textbf{Kurtosis:}      &  6.731 & \\textbf{  Cond. No.          } & 4.29e+19  \\\\\n",
       "\\bottomrule\n",
       "\\end{tabular}\n",
       "%\\caption{OLS Regression Results}\n",
       "\\end{center}\n",
       "\n",
       "Notes: \\newline\n",
       " [1] Standard Errors assume that the covariance matrix of the errors is correctly specified. \\newline\n",
       " [2] The smallest eigenvalue is 8.14e-29. This might indicate that there are \\newline\n",
       " strong multicollinearity problems or that the design matrix is singular."
      ],
      "text/plain": [
       "<class 'statsmodels.iolib.summary.Summary'>\n",
       "\"\"\"\n",
       "                            OLS Regression Results                            \n",
       "==============================================================================\n",
       "Dep. Variable:                      y   R-squared:                       0.882\n",
       "Model:                            OLS   Adj. R-squared:                  0.881\n",
       "Method:                 Least Squares   F-statistic:                     670.0\n",
       "Date:                Tue, 23 Apr 2024   Prob (F-statistic):           7.62e-84\n",
       "Time:                        07:43:18   Log-Likelihood:                -823.37\n",
       "No. Observations:                 182   AIC:                             1653.\n",
       "Df Residuals:                     179   BIC:                             1662.\n",
       "Df Model:                           2                                         \n",
       "Covariance Type:            nonrobust                                         \n",
       "==============================================================================\n",
       "                 coef    std err          t      P>|t|      [0.025      0.975]\n",
       "------------------------------------------------------------------------------\n",
       "Intercept     -0.0679      0.026     -2.593      0.010      -0.120      -0.016\n",
       "X[0]          -0.0018      0.000    -16.503      0.000      -0.002      -0.002\n",
       "X[1]          -0.3885      0.167     -2.321      0.021      -0.719      -0.058\n",
       "X[2]          -0.7771      0.335     -2.321      0.021      -1.438      -0.116\n",
       "X[3]           0.7673      0.086      8.954      0.000       0.598       0.936\n",
       "==============================================================================\n",
       "Omnibus:                       76.740   Durbin-Watson:                   0.262\n",
       "Prob(Omnibus):                  0.000   Jarque-Bera (JB):              207.887\n",
       "Skew:                           1.837   Prob(JB):                     7.21e-46\n",
       "Kurtosis:                       6.731   Cond. No.                     4.29e+19\n",
       "==============================================================================\n",
       "\n",
       "Notes:\n",
       "[1] Standard Errors assume that the covariance matrix of the errors is correctly specified.\n",
       "[2] The smallest eigenvalue is 8.14e-29. This might indicate that there are\n",
       "strong multicollinearity problems or that the design matrix is singular.\n",
       "\"\"\""
      ]
     },
     "execution_count": 20,
     "metadata": {},
     "output_type": "execute_result"
    }
   ],
   "source": [
    "import statsmodels.formula.api as smf\n",
    "model2=smf.ols(\"y~X\",data=df).fit()\n",
    "model2.summary()"
   ]
  },
  {
   "cell_type": "code",
   "execution_count": 21,
   "id": "063573de-d1c0-4112-aad8-e74af9dae839",
   "metadata": {},
   "outputs": [],
   "source": [
    "from sklearn.model_selection import train_test_split\n",
    "X_train,X_test,y_train,y_test=train_test_split(X,y,test_size=0.2,random_state=13)"
   ]
  },
  {
   "cell_type": "code",
   "execution_count": 22,
   "id": "babfdb7e-2eb7-4e64-87c1-0b6776064bef",
   "metadata": {},
   "outputs": [
    {
     "name": "stdout",
     "output_type": "stream",
     "text": [
      "Train RMSE: 8.66932062973149\n",
      "Train R2: 0.9811266890624486\n",
      "Cross Validation Score: 0.9770759708343613\n"
     ]
    }
   ],
   "source": [
    "from sklearn.preprocessing import PolynomialFeatures\n",
    "polynomial_converter=PolynomialFeatures(degree=2)\n",
    "X_train_poly=pd.DataFrame(polynomial_converter.fit_transform(X_train))\n",
    "\n",
    "from sklearn.linear_model import LinearRegression\n",
    "model=LinearRegression()\n",
    "model.fit(X_train_poly,y_train)\n",
    "\n",
    "ypred_train=model.predict(X_train_poly)\n",
    "\n",
    "from sklearn.metrics import mean_squared_error,r2_score\n",
    "print(\"Train RMSE:\",np.sqrt(mean_squared_error(y_train,ypred_train)))\n",
    "print(\"Train R2:\",r2_score(y_train,ypred_train))\n",
    "\n",
    "from sklearn.model_selection import cross_val_score\n",
    "print(\"Cross Validation Score:\",cross_val_score(model,X_train_poly,y_train,cv=5).mean())\n"
   ]
  },
  {
   "cell_type": "code",
   "execution_count": 23,
   "id": "b99cef6f-892d-4282-a20a-35918d2d575b",
   "metadata": {},
   "outputs": [
    {
     "name": "stdout",
     "output_type": "stream",
     "text": [
      "Test RMSE: 9.165516886535158\n",
      "Test R2: 0.983299235484626\n"
     ]
    }
   ],
   "source": [
    "X_test_poly=pd.DataFrame(polynomial_converter.transform(X_test))\n",
    "\n",
    "ypred_test=model.predict(X_test_poly)\n",
    "\n",
    "print(\"Test RMSE:\",np.sqrt(mean_squared_error(y_test,ypred_test)))\n",
    "print(\"Test R2:\",r2_score(y_test,ypred_test))"
   ]
  },
  {
   "cell_type": "code",
   "execution_count": 32,
   "id": "ebd703e9-ddbc-463f-b94a-065b547569cb",
   "metadata": {},
   "outputs": [],
   "source": [
    "train_r2=[]\n",
    "test_r2=[]\n",
    "\n",
    "for i in range(1,10):\n",
    "    polynomial_converter=PolynomialFeatures(degree=i)\n",
    "    X_train_poly=pd.DataFrame(polynomial_converter.fit_transform(X_train))\n",
    "\n",
    "    model=LinearRegression()\n",
    "    model.fit(X_train_poly,y_train)\n",
    "\n",
    "    train_pred=model.predict(X_train_poly)\n",
    "    train_r2.append(model.score(X_train_poly,y_train))\n",
    "\n",
    "    X_test_poly=pd.DataFrame(polynomial_converter.transform(X_test))\n",
    "\n",
    "    test_pred=model.predict(X_test_poly)\n",
    "    test_r2.append(model.score(X_test_poly,y_test))"
   ]
  },
  {
   "cell_type": "code",
   "execution_count": 33,
   "id": "526a6adb-52c4-40a5-b791-0521e5df5601",
   "metadata": {},
   "outputs": [
    {
     "data": {
      "text/plain": [
       "[0.8753323532551173,\n",
       " 0.9805032763932127,\n",
       " 0.9968659464187524,\n",
       " 0.9995523740311517,\n",
       " 0.999699435656276,\n",
       " 0.9409278855194873,\n",
       " 0.9029377925512312,\n",
       " 0.7605413376422427,\n",
       " 0.5639356455011562]"
      ]
     },
     "execution_count": 33,
     "metadata": {},
     "output_type": "execute_result"
    }
   ],
   "source": [
    "train_r2"
   ]
  },
  {
   "cell_type": "code",
   "execution_count": 34,
   "id": "c985a572-3ac0-4e76-b99c-d73d7aa56973",
   "metadata": {},
   "outputs": [
    {
     "data": {
      "text/plain": [
       "[0.90318986628339,\n",
       " 0.9861800910738064,\n",
       " 0.9971298822538031,\n",
       " 0.9994167660797556,\n",
       " 0.9995332175886285,\n",
       " 0.9337906336932731,\n",
       " 0.8133378384907464,\n",
       " 0.651065538801431,\n",
       " 0.4089117836082178]"
      ]
     },
     "execution_count": 34,
     "metadata": {},
     "output_type": "execute_result"
    }
   ],
   "source": [
    "test_r2"
   ]
  },
  {
   "cell_type": "code",
   "execution_count": 35,
   "id": "cdb78dec-908b-4af0-8c1a-fe72c6c3cbc9",
   "metadata": {},
   "outputs": [
    {
     "name": "stdout",
     "output_type": "stream",
     "text": [
      "train R2: 0.999699435656276\n",
      "Cross validation score: 0.9995491179485677\n",
      "test R2: 0.9995332175886285\n"
     ]
    }
   ],
   "source": [
    "final_poly_converter=PolynomialFeatures(degree=5)\n",
    "X_train_poly=pd.DataFrame(final_poly_converter.fit_transform(X_train))\n",
    "\n",
    "final_model=LinearRegression()\n",
    "final_model.fit(X_train_poly,y_train)\n",
    "\n",
    "train_pred=final_model.predict(X_train_poly)\n",
    "print(\"train R2:\",final_model.score(X_train_poly,y_train))\n",
    "print(\"Cross validation score:\",cross_val_score(model,X_train_poly,y_train,cv=5).mean())\n",
    "\n",
    "X_test_poly=pd.DataFrame(final_poly_converter.transform(X_test))\n",
    "test_pred=final_model.predict(X_test_poly)\n",
    "print(\"test R2:\",final_model.score(X_test_poly,y_test))"
   ]
  },
  {
   "cell_type": "code",
   "execution_count": 24,
   "id": "2b262a27-bbd4-4747-88df-37623fd50781",
   "metadata": {},
   "outputs": [],
   "source": [
    "from sklearn.model_selection import train_test_split\n",
    "X_train,X_test,y_train,y_test=train_test_split(X,y,test_size=0.2,random_state=9)"
   ]
  },
  {
   "cell_type": "code",
   "execution_count": 25,
   "id": "36395b94-5250-42f3-baf8-4e6aa09ba222",
   "metadata": {},
   "outputs": [
    {
     "data": {
      "text/plain": [
       "{'alpha': 99}"
      ]
     },
     "execution_count": 25,
     "metadata": {},
     "output_type": "execute_result"
    }
   ],
   "source": [
    "from sklearn.model_selection import GridSearchCV\n",
    "\n",
    "from sklearn.linear_model import Lasso\n",
    "estimator=Lasso()\n",
    "param_grid={\"alpha\":list(range(1,100))}\n",
    "\n",
    "model_hp=GridSearchCV(estimator,param_grid,cv=5,scoring='r2')\n",
    "\n",
    "model_hp.fit(X_train,y_train)\n",
    "model_hp.best_params_"
   ]
  },
  {
   "cell_type": "code",
   "execution_count": 26,
   "id": "204a185e-3ee3-41cc-9505-c7c4012df3fb",
   "metadata": {},
   "outputs": [
    {
     "name": "stdout",
     "output_type": "stream",
     "text": [
      "Intercept: -6.7874303495966615\n",
      "coefficients: [-0.00177397  0.          0.          0.57673261]\n",
      "train r2: 0.875040885598322\n",
      "Cv score: 0.8614317392516752\n",
      "test r2: 0.8993477946686774\n"
     ]
    }
   ],
   "source": [
    "from sklearn.linear_model import Lasso\n",
    "lasso_best=Lasso(alpha=99)\n",
    "lasso_best.fit(X_train,y_train)\n",
    "\n",
    "print(\"Intercept:\",lasso_best.intercept_)\n",
    "print(\"coefficients:\",lasso_best.coef_)\n",
    "\n",
    "ypred_train=lasso_best.predict(X_train)\n",
    "from sklearn.metrics import r2_score\n",
    "print(\"train r2:\",r2_score(y_train,ypred_train))\n",
    "from sklearn.model_selection import cross_val_score\n",
    "print(\"Cv score:\",cross_val_score(lasso_best,X_train,y_train,cv=5).mean())\n",
    "\n",
    "ypred_test=lasso_best.predict(X_test)\n",
    "print(\"test r2:\",r2_score(y_test,ypred_test))\n"
   ]
  },
  {
   "cell_type": "code",
   "execution_count": 27,
   "id": "c7d2aa7a-e628-4ce6-9abe-98bc0b55cef1",
   "metadata": {},
   "outputs": [
    {
     "data": {
      "text/plain": [
       "{'alpha': 99}"
      ]
     },
     "execution_count": 27,
     "metadata": {},
     "output_type": "execute_result"
    }
   ],
   "source": [
    "X_train,X_test,y_train,y_test=train_test_split(X,y,test_size=0.2,random_state=0)\n",
    "estimator=Ridge()\n",
    "\n",
    "param_grid={\"alpha\":list(range(1,100))}\n",
    "\n",
    "model_hp=GridSearchCV(estimator,param_grid,cv=5,scoring='r2')\n",
    "\n",
    "model_hp.fit(X_train,y_train)\n",
    "model_hp.best_params_"
   ]
  },
  {
   "cell_type": "code",
   "execution_count": 28,
   "id": "cc285774-9237-4c34-aee2-c346dc2b84fa",
   "metadata": {},
   "outputs": [
    {
     "name": "stdout",
     "output_type": "stream",
     "text": [
      "intercept: -13.969820976654404\n",
      "coefficients: [-0.0018914   0.04948742  0.09897484  0.59384905]\n",
      "train r2: 0.8829194944262496\n",
      "cv Score: 0.8709011753871903\n",
      "test r2: 0.8577364086697425\n"
     ]
    }
   ],
   "source": [
    "ridge_best=Ridge(alpha=99)\n",
    "ridge_best.fit(X_train,y_train)\n",
    "\n",
    "print(\"intercept:\",ridge_best.intercept_)\n",
    "print(\"coefficients:\",ridge_best.coef_)\n",
    "\n",
    "ypred_train=ridge_best.predict(X_train)\n",
    "print(\"train r2:\",r2_score(y_train,ypred_train))\n",
    "print(\"cv Score:\",cross_val_score(ridge_best,X_train,y_train,cv=5).mean())\n",
    "\n",
    "ypred_test=ridge_best.predict(X_test)\n",
    "print(\"test r2:\",r2_score(y_test,ypred_test))"
   ]
  },
  {
   "cell_type": "code",
   "execution_count": 29,
   "id": "2c8b2f81-6176-49b8-9209-73adf69154aa",
   "metadata": {},
   "outputs": [
    {
     "name": "stdout",
     "output_type": "stream",
     "text": [
      "train R2: 0.8753323344833486\n",
      "test R2: 0.9031612985187849\n",
      "cross Validation Score: 0.7597450234303746\n"
     ]
    }
   ],
   "source": [
    "from sklearn.model_selection import train_test_split\n",
    "X_train,X_test,y_train,y_test=train_test_split(X,y,test_size=0.2,random_state=9)\n",
    "\n",
    "from sklearn.linear_model import ElasticNet\n",
    "enr_base=ElasticNet()\n",
    "enr_base.fit(X_train,y_train)\n",
    "\n",
    "train_predictions=enr_base.predict(X_train)\n",
    "test_predictions=enr_base.predict(X_test)\n",
    "\n",
    "print(\"train R2:\",enr_base.score(X_train,y_train))\n",
    "print(\"test R2:\",enr_base.score(X_test,y_test))\n",
    "from sklearn.model_selection import cross_val_score\n",
    "print(\"cross Validation Score:\",cross_val_score(enr_base,X,y,cv=5).mean())"
   ]
  },
  {
   "cell_type": "code",
   "execution_count": 30,
   "id": "feaa9fd9-c285-4ffb-8a07-1fe4de2e527b",
   "metadata": {},
   "outputs": [
    {
     "data": {
      "text/plain": [
       "{'alpha': 10, 'l1_ratio': 0.5}"
      ]
     },
     "execution_count": 30,
     "metadata": {},
     "output_type": "execute_result"
    }
   ],
   "source": [
    "from sklearn.model_selection import GridSearchCV\n",
    "\n",
    "estimator=ElasticNet()\n",
    "\n",
    "param_grid={\"alpha\":[0.1,0.2,1,2,3,5,10],\"l1_ratio\":[0.1,0.5,0.75,0.9,0.95,1]}\n",
    "\n",
    "model_hp=GridSearchCV(estimator,param_grid,cv=5,scoring='neg_mean_squared_error')\n",
    "model_hp.fit(X_train,y_train)\n",
    "model_hp.best_params_"
   ]
  },
  {
   "cell_type": "code",
   "execution_count": 31,
   "id": "ea1835e8-46de-4e99-b435-75f4244513e1",
   "metadata": {},
   "outputs": [
    {
     "name": "stdout",
     "output_type": "stream",
     "text": [
      "intercept: -9.710595960996727\n",
      "coefficients [-0.00177182  0.          0.          0.58799505]\n",
      "Train R2: 0.8753304781663882\n",
      "test R2: 0.9029027187274774\n",
      "cross validation score: 0.7602319864712601\n"
     ]
    }
   ],
   "source": [
    "enr_best=ElasticNet(alpha=10,l1_ratio=0.5)\n",
    "enr_best.fit(X_train,y_train)\n",
    "\n",
    "print(\"intercept:\",enr_best.intercept_)\n",
    "print(\"coefficients\",enr_best.coef_)\n",
    "\n",
    "train_predictions=enr_best.predict(X_train)\n",
    "test_predictions=enr_best.predict(X_test)\n",
    "\n",
    "print(\"Train R2:\",enr_best.score(X_train,y_train))\n",
    "print(\"test R2:\",enr_best.score(X_test,y_test))\n",
    "print(\"cross validation score:\",cross_val_score(enr_best,X,y,cv=5).mean())"
   ]
  },
  {
   "cell_type": "code",
   "execution_count": null,
   "id": "4e21808a-b021-4ea6-9c03-46d372660056",
   "metadata": {},
   "outputs": [],
   "source": []
  }
 ],
 "metadata": {
  "kernelspec": {
   "display_name": "Python 3 (ipykernel)",
   "language": "python",
   "name": "python3"
  },
  "language_info": {
   "codemirror_mode": {
    "name": "ipython",
    "version": 3
   },
   "file_extension": ".py",
   "mimetype": "text/x-python",
   "name": "python",
   "nbconvert_exporter": "python",
   "pygments_lexer": "ipython3",
   "version": "3.12.2"
  }
 },
 "nbformat": 4,
 "nbformat_minor": 5
}
